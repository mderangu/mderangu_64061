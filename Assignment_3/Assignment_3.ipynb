{
  "nbformat": 4,
  "nbformat_minor": 0,
  "metadata": {
    "colab": {
      "provenance": []
    },
    "kernelspec": {
      "name": "python3",
      "display_name": "Python 3"
    },
    "language_info": {
      "name": "python"
    }
  },
  "cells": [
    {
      "cell_type": "markdown",
      "source": [
        "## Import necessary libraries"
      ],
      "metadata": {
        "id": "bv9pZJQUo9o2"
      }
    },
    {
      "cell_type": "code",
      "source": [
        "import numpy as np\n",
        "import pandas as pd\n",
        "from sklearn.model_selection import train_test_split\n",
        "from sklearn.preprocessing import MinMaxScaler\n",
        "from tensorflow.keras.models import Sequential\n",
        "from tensorflow.keras.layers import LSTM, GRU, Dense, Conv1D, MaxPooling1D, Flatten"
      ],
      "metadata": {
        "id": "uUd50V59o_Xi"
      },
      "execution_count": null,
      "outputs": []
    },
    {
      "cell_type": "markdown",
      "source": [
        "## Loading time-series dataset"
      ],
      "metadata": {
        "id": "3iowIHfnpBBb"
      }
    },
    {
      "cell_type": "code",
      "source": [
        "data = pd.read_csv('MLTempDataset.csv')\n",
        "data.head()"
      ],
      "metadata": {
        "colab": {
          "base_uri": "https://localhost:8080/",
          "height": 206
        },
        "id": "qMXkhW64pHW3",
        "outputId": "cbc3ca10-d9e5-478c-a29b-7bfe932b7657"
      },
      "execution_count": null,
      "outputs": [
        {
          "output_type": "execute_result",
          "data": {
            "text/plain": [
              "   Unnamed: 0  Datetime1  DAYTON_MW             Datetime\n",
              "0           0          0     20.867  2022-01-04 00:00:00\n",
              "1           1          1     21.000  2022-01-04 01:00:00\n",
              "2           2          2     20.867  2022-01-04 02:00:00\n",
              "3           3          3     20.650  2022-01-04 03:00:00\n",
              "4           4          4     20.400  2022-01-04 04:00:00"
            ],
            "text/html": [
              "\n",
              "  <div id=\"df-027183bc-d695-470a-875d-6bc78ac73039\" class=\"colab-df-container\">\n",
              "    <div>\n",
              "<style scoped>\n",
              "    .dataframe tbody tr th:only-of-type {\n",
              "        vertical-align: middle;\n",
              "    }\n",
              "\n",
              "    .dataframe tbody tr th {\n",
              "        vertical-align: top;\n",
              "    }\n",
              "\n",
              "    .dataframe thead th {\n",
              "        text-align: right;\n",
              "    }\n",
              "</style>\n",
              "<table border=\"1\" class=\"dataframe\">\n",
              "  <thead>\n",
              "    <tr style=\"text-align: right;\">\n",
              "      <th></th>\n",
              "      <th>Unnamed: 0</th>\n",
              "      <th>Datetime1</th>\n",
              "      <th>DAYTON_MW</th>\n",
              "      <th>Datetime</th>\n",
              "    </tr>\n",
              "  </thead>\n",
              "  <tbody>\n",
              "    <tr>\n",
              "      <th>0</th>\n",
              "      <td>0</td>\n",
              "      <td>0</td>\n",
              "      <td>20.867</td>\n",
              "      <td>2022-01-04 00:00:00</td>\n",
              "    </tr>\n",
              "    <tr>\n",
              "      <th>1</th>\n",
              "      <td>1</td>\n",
              "      <td>1</td>\n",
              "      <td>21.000</td>\n",
              "      <td>2022-01-04 01:00:00</td>\n",
              "    </tr>\n",
              "    <tr>\n",
              "      <th>2</th>\n",
              "      <td>2</td>\n",
              "      <td>2</td>\n",
              "      <td>20.867</td>\n",
              "      <td>2022-01-04 02:00:00</td>\n",
              "    </tr>\n",
              "    <tr>\n",
              "      <th>3</th>\n",
              "      <td>3</td>\n",
              "      <td>3</td>\n",
              "      <td>20.650</td>\n",
              "      <td>2022-01-04 03:00:00</td>\n",
              "    </tr>\n",
              "    <tr>\n",
              "      <th>4</th>\n",
              "      <td>4</td>\n",
              "      <td>4</td>\n",
              "      <td>20.400</td>\n",
              "      <td>2022-01-04 04:00:00</td>\n",
              "    </tr>\n",
              "  </tbody>\n",
              "</table>\n",
              "</div>\n",
              "    <div class=\"colab-df-buttons\">\n",
              "\n",
              "  <div class=\"colab-df-container\">\n",
              "    <button class=\"colab-df-convert\" onclick=\"convertToInteractive('df-027183bc-d695-470a-875d-6bc78ac73039')\"\n",
              "            title=\"Convert this dataframe to an interactive table.\"\n",
              "            style=\"display:none;\">\n",
              "\n",
              "  <svg xmlns=\"http://www.w3.org/2000/svg\" height=\"24px\" viewBox=\"0 -960 960 960\">\n",
              "    <path d=\"M120-120v-720h720v720H120Zm60-500h600v-160H180v160Zm220 220h160v-160H400v160Zm0 220h160v-160H400v160ZM180-400h160v-160H180v160Zm440 0h160v-160H620v160ZM180-180h160v-160H180v160Zm440 0h160v-160H620v160Z\"/>\n",
              "  </svg>\n",
              "    </button>\n",
              "\n",
              "  <style>\n",
              "    .colab-df-container {\n",
              "      display:flex;\n",
              "      gap: 12px;\n",
              "    }\n",
              "\n",
              "    .colab-df-convert {\n",
              "      background-color: #E8F0FE;\n",
              "      border: none;\n",
              "      border-radius: 50%;\n",
              "      cursor: pointer;\n",
              "      display: none;\n",
              "      fill: #1967D2;\n",
              "      height: 32px;\n",
              "      padding: 0 0 0 0;\n",
              "      width: 32px;\n",
              "    }\n",
              "\n",
              "    .colab-df-convert:hover {\n",
              "      background-color: #E2EBFA;\n",
              "      box-shadow: 0px 1px 2px rgba(60, 64, 67, 0.3), 0px 1px 3px 1px rgba(60, 64, 67, 0.15);\n",
              "      fill: #174EA6;\n",
              "    }\n",
              "\n",
              "    .colab-df-buttons div {\n",
              "      margin-bottom: 4px;\n",
              "    }\n",
              "\n",
              "    [theme=dark] .colab-df-convert {\n",
              "      background-color: #3B4455;\n",
              "      fill: #D2E3FC;\n",
              "    }\n",
              "\n",
              "    [theme=dark] .colab-df-convert:hover {\n",
              "      background-color: #434B5C;\n",
              "      box-shadow: 0px 1px 3px 1px rgba(0, 0, 0, 0.15);\n",
              "      filter: drop-shadow(0px 1px 2px rgba(0, 0, 0, 0.3));\n",
              "      fill: #FFFFFF;\n",
              "    }\n",
              "  </style>\n",
              "\n",
              "    <script>\n",
              "      const buttonEl =\n",
              "        document.querySelector('#df-027183bc-d695-470a-875d-6bc78ac73039 button.colab-df-convert');\n",
              "      buttonEl.style.display =\n",
              "        google.colab.kernel.accessAllowed ? 'block' : 'none';\n",
              "\n",
              "      async function convertToInteractive(key) {\n",
              "        const element = document.querySelector('#df-027183bc-d695-470a-875d-6bc78ac73039');\n",
              "        const dataTable =\n",
              "          await google.colab.kernel.invokeFunction('convertToInteractive',\n",
              "                                                    [key], {});\n",
              "        if (!dataTable) return;\n",
              "\n",
              "        const docLinkHtml = 'Like what you see? Visit the ' +\n",
              "          '<a target=\"_blank\" href=https://colab.research.google.com/notebooks/data_table.ipynb>data table notebook</a>'\n",
              "          + ' to learn more about interactive tables.';\n",
              "        element.innerHTML = '';\n",
              "        dataTable['output_type'] = 'display_data';\n",
              "        await google.colab.output.renderOutput(dataTable, element);\n",
              "        const docLink = document.createElement('div');\n",
              "        docLink.innerHTML = docLinkHtml;\n",
              "        element.appendChild(docLink);\n",
              "      }\n",
              "    </script>\n",
              "  </div>\n",
              "\n",
              "\n",
              "<div id=\"df-029e1c2a-35bf-4bb4-9dc3-20d7b08db9da\">\n",
              "  <button class=\"colab-df-quickchart\" onclick=\"quickchart('df-029e1c2a-35bf-4bb4-9dc3-20d7b08db9da')\"\n",
              "            title=\"Suggest charts\"\n",
              "            style=\"display:none;\">\n",
              "\n",
              "<svg xmlns=\"http://www.w3.org/2000/svg\" height=\"24px\"viewBox=\"0 0 24 24\"\n",
              "     width=\"24px\">\n",
              "    <g>\n",
              "        <path d=\"M19 3H5c-1.1 0-2 .9-2 2v14c0 1.1.9 2 2 2h14c1.1 0 2-.9 2-2V5c0-1.1-.9-2-2-2zM9 17H7v-7h2v7zm4 0h-2V7h2v10zm4 0h-2v-4h2v4z\"/>\n",
              "    </g>\n",
              "</svg>\n",
              "  </button>\n",
              "\n",
              "<style>\n",
              "  .colab-df-quickchart {\n",
              "      --bg-color: #E8F0FE;\n",
              "      --fill-color: #1967D2;\n",
              "      --hover-bg-color: #E2EBFA;\n",
              "      --hover-fill-color: #174EA6;\n",
              "      --disabled-fill-color: #AAA;\n",
              "      --disabled-bg-color: #DDD;\n",
              "  }\n",
              "\n",
              "  [theme=dark] .colab-df-quickchart {\n",
              "      --bg-color: #3B4455;\n",
              "      --fill-color: #D2E3FC;\n",
              "      --hover-bg-color: #434B5C;\n",
              "      --hover-fill-color: #FFFFFF;\n",
              "      --disabled-bg-color: #3B4455;\n",
              "      --disabled-fill-color: #666;\n",
              "  }\n",
              "\n",
              "  .colab-df-quickchart {\n",
              "    background-color: var(--bg-color);\n",
              "    border: none;\n",
              "    border-radius: 50%;\n",
              "    cursor: pointer;\n",
              "    display: none;\n",
              "    fill: var(--fill-color);\n",
              "    height: 32px;\n",
              "    padding: 0;\n",
              "    width: 32px;\n",
              "  }\n",
              "\n",
              "  .colab-df-quickchart:hover {\n",
              "    background-color: var(--hover-bg-color);\n",
              "    box-shadow: 0 1px 2px rgba(60, 64, 67, 0.3), 0 1px 3px 1px rgba(60, 64, 67, 0.15);\n",
              "    fill: var(--button-hover-fill-color);\n",
              "  }\n",
              "\n",
              "  .colab-df-quickchart-complete:disabled,\n",
              "  .colab-df-quickchart-complete:disabled:hover {\n",
              "    background-color: var(--disabled-bg-color);\n",
              "    fill: var(--disabled-fill-color);\n",
              "    box-shadow: none;\n",
              "  }\n",
              "\n",
              "  .colab-df-spinner {\n",
              "    border: 2px solid var(--fill-color);\n",
              "    border-color: transparent;\n",
              "    border-bottom-color: var(--fill-color);\n",
              "    animation:\n",
              "      spin 1s steps(1) infinite;\n",
              "  }\n",
              "\n",
              "  @keyframes spin {\n",
              "    0% {\n",
              "      border-color: transparent;\n",
              "      border-bottom-color: var(--fill-color);\n",
              "      border-left-color: var(--fill-color);\n",
              "    }\n",
              "    20% {\n",
              "      border-color: transparent;\n",
              "      border-left-color: var(--fill-color);\n",
              "      border-top-color: var(--fill-color);\n",
              "    }\n",
              "    30% {\n",
              "      border-color: transparent;\n",
              "      border-left-color: var(--fill-color);\n",
              "      border-top-color: var(--fill-color);\n",
              "      border-right-color: var(--fill-color);\n",
              "    }\n",
              "    40% {\n",
              "      border-color: transparent;\n",
              "      border-right-color: var(--fill-color);\n",
              "      border-top-color: var(--fill-color);\n",
              "    }\n",
              "    60% {\n",
              "      border-color: transparent;\n",
              "      border-right-color: var(--fill-color);\n",
              "    }\n",
              "    80% {\n",
              "      border-color: transparent;\n",
              "      border-right-color: var(--fill-color);\n",
              "      border-bottom-color: var(--fill-color);\n",
              "    }\n",
              "    90% {\n",
              "      border-color: transparent;\n",
              "      border-bottom-color: var(--fill-color);\n",
              "    }\n",
              "  }\n",
              "</style>\n",
              "\n",
              "  <script>\n",
              "    async function quickchart(key) {\n",
              "      const quickchartButtonEl =\n",
              "        document.querySelector('#' + key + ' button');\n",
              "      quickchartButtonEl.disabled = true;  // To prevent multiple clicks.\n",
              "      quickchartButtonEl.classList.add('colab-df-spinner');\n",
              "      try {\n",
              "        const charts = await google.colab.kernel.invokeFunction(\n",
              "            'suggestCharts', [key], {});\n",
              "      } catch (error) {\n",
              "        console.error('Error during call to suggestCharts:', error);\n",
              "      }\n",
              "      quickchartButtonEl.classList.remove('colab-df-spinner');\n",
              "      quickchartButtonEl.classList.add('colab-df-quickchart-complete');\n",
              "    }\n",
              "    (() => {\n",
              "      let quickchartButtonEl =\n",
              "        document.querySelector('#df-029e1c2a-35bf-4bb4-9dc3-20d7b08db9da button');\n",
              "      quickchartButtonEl.style.display =\n",
              "        google.colab.kernel.accessAllowed ? 'block' : 'none';\n",
              "    })();\n",
              "  </script>\n",
              "</div>\n",
              "\n",
              "    </div>\n",
              "  </div>\n"
            ],
            "application/vnd.google.colaboratory.intrinsic+json": {
              "type": "dataframe",
              "variable_name": "data",
              "summary": "{\n  \"name\": \"data\",\n  \"rows\": 6676,\n  \"fields\": [\n    {\n      \"column\": \"Unnamed: 0\",\n      \"properties\": {\n        \"dtype\": \"number\",\n        \"std\": 1927,\n        \"min\": 0,\n        \"max\": 6675,\n        \"num_unique_values\": 6676,\n        \"samples\": [\n          1575,\n          6445,\n          4622\n        ],\n        \"semantic_type\": \"\",\n        \"description\": \"\"\n      }\n    },\n    {\n      \"column\": \"Datetime1\",\n      \"properties\": {\n        \"dtype\": \"number\",\n        \"std\": 6,\n        \"min\": 0,\n        \"max\": 23,\n        \"num_unique_values\": 24,\n        \"samples\": [\n          8,\n          16,\n          0\n        ],\n        \"semantic_type\": \"\",\n        \"description\": \"\"\n      }\n    },\n    {\n      \"column\": \"DAYTON_MW\",\n      \"properties\": {\n        \"dtype\": \"number\",\n        \"std\": 6.850501601325179,\n        \"min\": 5.35,\n        \"max\": 36.5,\n        \"num_unique_values\": 1760,\n        \"samples\": [\n          22.975,\n          11.05,\n          22.06\n        ],\n        \"semantic_type\": \"\",\n        \"description\": \"\"\n      }\n    },\n    {\n      \"column\": \"Datetime\",\n      \"properties\": {\n        \"dtype\": \"object\",\n        \"num_unique_values\": 6676,\n        \"samples\": [\n          \"2022-03-10 15:00:00\",\n          \"2022-09-29 13:00:00\",\n          \"2022-07-15 14:00:00\"\n        ],\n        \"semantic_type\": \"\",\n        \"description\": \"\"\n      }\n    }\n  ]\n}"
            }
          },
          "metadata": {},
          "execution_count": 3
        }
      ]
    },
    {
      "cell_type": "markdown",
      "source": [
        "## Preprocess data function\n",
        "\n",
        "\n"
      ],
      "metadata": {
        "id": "KmR5ov0vpLYx"
      }
    },
    {
      "cell_type": "code",
      "source": [
        "def preprocess_data(data, target_col, sequence_length):\n",
        "    data = data[['Datetime1', target_col]]\n",
        "    data = data.sort_values(by=['Datetime1'])\n",
        "\n",
        "    scaler = MinMaxScaler()\n",
        "    data[target_col] = scaler.fit_transform(data[[target_col]])\n",
        "\n",
        "    sequences, targets = [], []\n",
        "    for i in range(len(data) - sequence_length):\n",
        "        seq = data[target_col].values[i:i+sequence_length]\n",
        "        label = data[target_col].values[i+sequence_length]\n",
        "        sequences.append(seq)\n",
        "        targets.append(label)\n",
        "\n",
        "    sequences = np.array(sequences)\n",
        "    targets = np.array(targets)\n",
        "\n",
        "    return sequences, targets"
      ],
      "metadata": {
        "id": "4cXTzfPRpMd-"
      },
      "execution_count": null,
      "outputs": []
    },
    {
      "cell_type": "markdown",
      "source": [
        "## Sequence, Preprocess, Split data"
      ],
      "metadata": {
        "id": "nag2oLYJpvYR"
      }
    },
    {
      "cell_type": "code",
      "source": [
        "# Set sequence length and target column\n",
        "sequence_length = 10\n",
        "target_column = 'DAYTON_MW'\n",
        "\n",
        "# Preprocess the data\n",
        "X, y = preprocess_data(data, target_column, sequence_length)\n",
        "\n",
        "# Split the data into training and testing sets\n",
        "X_train, X_test, y_train, y_test = train_test_split(X, y, test_size=0.2, random_state=42)"
      ],
      "metadata": {
        "id": "0ownPnYjqHzx"
      },
      "execution_count": null,
      "outputs": []
    },
    {
      "cell_type": "markdown",
      "source": [
        "## RNN_MODEL"
      ],
      "metadata": {
        "id": "q4_zCCpEqKtn"
      }
    },
    {
      "cell_type": "code",
      "source": [
        "def build_rnn_model(units, layer_type='LSTM'):\n",
        "    model = Sequential()\n",
        "\n",
        "    if layer_type == 'LSTM':\n",
        "        print(\"Training LSTM model:\")\n",
        "        model.add(LSTM(units, input_shape=(X_train.shape[1], 1)))\n",
        "    elif layer_type == 'GRU':\n",
        "        print(\"Training GRU model:\")\n",
        "        model.add(GRU(units, input_shape=(X_train.shape[1], 1)))\n",
        "\n",
        "    model.add(Dense(1))\n",
        "\n",
        "    model.compile(optimizer='adam', loss='mean_absolute_error')\n",
        "\n",
        "    return model"
      ],
      "metadata": {
        "id": "ZTG2DUFYqNRI"
      },
      "execution_count": null,
      "outputs": []
    },
    {
      "cell_type": "markdown",
      "source": [
        "## Train LSTM model"
      ],
      "metadata": {
        "id": "5TCcYZ6FqS-K"
      }
    },
    {
      "cell_type": "code",
      "source": [
        "lstm_model = build_rnn_model(units=50, layer_type='LSTM')\n",
        "history_lstm = lstm_model.fit(X_train, y_train, epochs=10, batch_size=32, validation_split=0.2)"
      ],
      "metadata": {
        "colab": {
          "base_uri": "https://localhost:8080/"
        },
        "id": "LkJFWZ30qiM2",
        "outputId": "dfd40055-626f-4be3-f1e7-96a9c68f3bf6"
      },
      "execution_count": null,
      "outputs": [
        {
          "output_type": "stream",
          "name": "stdout",
          "text": [
            "Training LSTM model:\n",
            "Epoch 1/10\n",
            "134/134 [==============================] - 4s 13ms/step - loss: 0.1914 - val_loss: 0.1719\n",
            "Epoch 2/10\n",
            "134/134 [==============================] - 1s 8ms/step - loss: 0.1698 - val_loss: 0.1715\n",
            "Epoch 3/10\n",
            "134/134 [==============================] - 1s 9ms/step - loss: 0.1695 - val_loss: 0.1687\n",
            "Epoch 4/10\n",
            "134/134 [==============================] - 1s 10ms/step - loss: 0.1682 - val_loss: 0.1685\n",
            "Epoch 5/10\n",
            "134/134 [==============================] - 1s 10ms/step - loss: 0.1684 - val_loss: 0.1682\n",
            "Epoch 6/10\n",
            "134/134 [==============================] - 1s 8ms/step - loss: 0.1674 - val_loss: 0.1677\n",
            "Epoch 7/10\n",
            "134/134 [==============================] - 1s 7ms/step - loss: 0.1678 - val_loss: 0.1678\n",
            "Epoch 8/10\n",
            "134/134 [==============================] - 1s 8ms/step - loss: 0.1675 - val_loss: 0.1688\n",
            "Epoch 9/10\n",
            "134/134 [==============================] - 1s 8ms/step - loss: 0.1685 - val_loss: 0.1676\n",
            "Epoch 10/10\n",
            "134/134 [==============================] - 1s 8ms/step - loss: 0.1677 - val_loss: 0.1676\n"
          ]
        }
      ]
    },
    {
      "cell_type": "markdown",
      "source": [
        "## Train GRU model"
      ],
      "metadata": {
        "id": "yJ_KN4xqqVqL"
      }
    },
    {
      "cell_type": "code",
      "source": [
        "gru_model = build_rnn_model(units=50, layer_type='GRU')\n",
        "history_gru = gru_model.fit(X_train, y_train, epochs=10, batch_size=32, validation_split=0.2)"
      ],
      "metadata": {
        "colab": {
          "base_uri": "https://localhost:8080/"
        },
        "id": "2GIRY1uXqmnH",
        "outputId": "142e34fd-c67d-4f67-cd6f-3df74ab50b06"
      },
      "execution_count": null,
      "outputs": [
        {
          "output_type": "stream",
          "name": "stdout",
          "text": [
            "Training GRU model:\n",
            "Epoch 1/10\n",
            "134/134 [==============================] - 4s 11ms/step - loss: 0.1891 - val_loss: 0.1707\n",
            "Epoch 2/10\n",
            "134/134 [==============================] - 1s 7ms/step - loss: 0.1685 - val_loss: 0.1683\n",
            "Epoch 3/10\n",
            "134/134 [==============================] - 1s 7ms/step - loss: 0.1678 - val_loss: 0.1679\n",
            "Epoch 4/10\n",
            "134/134 [==============================] - 1s 7ms/step - loss: 0.1683 - val_loss: 0.1834\n",
            "Epoch 5/10\n",
            "134/134 [==============================] - 1s 9ms/step - loss: 0.1689 - val_loss: 0.1700\n",
            "Epoch 6/10\n",
            "134/134 [==============================] - 1s 11ms/step - loss: 0.1671 - val_loss: 0.1681\n",
            "Epoch 7/10\n",
            "134/134 [==============================] - 1s 8ms/step - loss: 0.1671 - val_loss: 0.1744\n",
            "Epoch 8/10\n",
            "134/134 [==============================] - 1s 7ms/step - loss: 0.1678 - val_loss: 0.1689\n",
            "Epoch 9/10\n",
            "134/134 [==============================] - 1s 7ms/step - loss: 0.1677 - val_loss: 0.1706\n",
            "Epoch 10/10\n",
            "134/134 [==============================] - 1s 7ms/step - loss: 0.1675 - val_loss: 0.1682\n"
          ]
        }
      ]
    },
    {
      "cell_type": "markdown",
      "source": [
        "## Build a combination of 1D Convolutional and LSTM layers"
      ],
      "metadata": {
        "id": "Le_E7H1JqZMS"
      }
    },
    {
      "cell_type": "code",
      "source": [
        "def build_conv_lstm_model(units, filters):\n",
        "    model = Sequential()\n",
        "\n",
        "    print(\"Training ConvLSTM model:\")\n",
        "    model.add(Conv1D(filters, kernel_size=3, activation='relu', input_shape=(X_train.shape[1], 1)))\n",
        "    model.add(MaxPooling1D(pool_size=2))\n",
        "    model.add(LSTM(units))\n",
        "\n",
        "    model.add(Dense(1))\n",
        "\n",
        "    model.compile(optimizer='adam', loss='mean_absolute_error')\n",
        "\n",
        "    return model"
      ],
      "metadata": {
        "id": "TwZao3RAqrwp"
      },
      "execution_count": null,
      "outputs": []
    },
    {
      "cell_type": "markdown",
      "source": [
        "## Training combined model"
      ],
      "metadata": {
        "id": "KJbG3_piq1ee"
      }
    },
    {
      "cell_type": "code",
      "source": [
        "conv_lstm_model = build_conv_lstm_model(units=50, filters=32)\n",
        "history_conv_lstm = conv_lstm_model.fit(X_train, y_train, epochs=10, batch_size=32, validation_split=0.2)"
      ],
      "metadata": {
        "colab": {
          "base_uri": "https://localhost:8080/"
        },
        "id": "ArAorfScq4IW",
        "outputId": "28331c21-af5d-44e8-ab0b-3a66eec9e04b"
      },
      "execution_count": null,
      "outputs": [
        {
          "output_type": "stream",
          "name": "stdout",
          "text": [
            "Training ConvLSTM model:\n",
            "Epoch 1/10\n",
            "134/134 [==============================] - 4s 9ms/step - loss: 0.1904 - val_loss: 0.1691\n",
            "Epoch 2/10\n",
            "134/134 [==============================] - 1s 6ms/step - loss: 0.1690 - val_loss: 0.1689\n",
            "Epoch 3/10\n",
            "134/134 [==============================] - 1s 6ms/step - loss: 0.1687 - val_loss: 0.1679\n",
            "Epoch 4/10\n",
            "134/134 [==============================] - 1s 6ms/step - loss: 0.1689 - val_loss: 0.1698\n",
            "Epoch 5/10\n",
            "134/134 [==============================] - 1s 6ms/step - loss: 0.1678 - val_loss: 0.1735\n",
            "Epoch 6/10\n",
            "134/134 [==============================] - 1s 6ms/step - loss: 0.1676 - val_loss: 0.1676\n",
            "Epoch 7/10\n",
            "134/134 [==============================] - 1s 7ms/step - loss: 0.1672 - val_loss: 0.1735\n",
            "Epoch 8/10\n",
            "134/134 [==============================] - 1s 8ms/step - loss: 0.1689 - val_loss: 0.1685\n",
            "Epoch 9/10\n",
            "134/134 [==============================] - 1s 9ms/step - loss: 0.1675 - val_loss: 0.1680\n",
            "Epoch 10/10\n",
            "134/134 [==============================] - 1s 6ms/step - loss: 0.1674 - val_loss: 0.1687\n"
          ]
        }
      ]
    },
    {
      "cell_type": "markdown",
      "source": [
        "## Evaluating models on the test set"
      ],
      "metadata": {
        "id": "k5NbAYhtq7p2"
      }
    },
    {
      "cell_type": "code",
      "source": [
        "lstm_mae = lstm_model.evaluate(X_test, y_test)\n",
        "gru_mae = gru_model.evaluate(X_test, y_test)\n",
        "conv_lstm_mae = conv_lstm_model.evaluate(X_test, y_test)\n",
        "\n",
        "print(\"LSTM MAE:\", lstm_mae)\n",
        "print(\"GRU MAE:\", gru_mae)\n",
        "print(\"ConvLSTM MAE:\", conv_lstm_mae)"
      ],
      "metadata": {
        "colab": {
          "base_uri": "https://localhost:8080/"
        },
        "id": "-Ww6BU1UrAVP",
        "outputId": "5a929159-858d-4c8a-d5b6-301577da1ca8"
      },
      "execution_count": null,
      "outputs": [
        {
          "output_type": "stream",
          "name": "stdout",
          "text": [
            "42/42 [==============================] - 0s 3ms/step - loss: 0.1657\n",
            "42/42 [==============================] - 0s 3ms/step - loss: 0.1654\n",
            "42/42 [==============================] - 0s 2ms/step - loss: 0.1658\n",
            "LSTM MAE: 0.16569894552230835\n",
            "GRU MAE: 0.16539506614208221\n",
            "ConvLSTM MAE: 0.16583970189094543\n"
          ]
        }
      ]
    },
    {
      "cell_type": "code",
      "source": [
        "# Find the best model\n",
        "best_model_name = min({\"LSTM\": lstm_mae, \"GRU\": gru_mae, \"ConvLSTM\": conv_lstm_mae}.items(), key=lambda x: x[1])[0]\n",
        "\n",
        "# Print the best model's results\n",
        "print(f\"{best_model_name} Model MAE:\", locals()[f\"{best_model_name.lower()}_mae\"])"
      ],
      "metadata": {
        "colab": {
          "base_uri": "https://localhost:8080/"
        },
        "id": "rAK-KlPbrKV5",
        "outputId": "42486bb2-b070-48ce-c4af-5062391a3ba4"
      },
      "execution_count": null,
      "outputs": [
        {
          "output_type": "stream",
          "name": "stdout",
          "text": [
            "GRU Model MAE: 0.16539506614208221\n"
          ]
        }
      ]
    },
    {
      "cell_type": "code",
      "source": [
        "import matplotlib.pyplot as plt\n",
        "\n",
        "def plot_history(history, model_name):\n",
        "    plt.plot(history.history['loss'], label='Training Loss')\n",
        "    plt.plot(history.history['val_loss'], label='Validation Loss')\n",
        "    plt.title(f'{model_name} Training and Validation Loss')\n",
        "    plt.xlabel('Epochs')\n",
        "    plt.ylabel('Loss')\n",
        "    plt.legend()\n",
        "    plt.show()\n",
        "\n",
        "# Plot training history for each model\n",
        "plot_history(history_lstm, 'LSTM')\n",
        "plot_history(history_gru, 'GRU')\n",
        "plot_history(history_conv_lstm, 'ConvLSTM')\n"
      ],
      "metadata": {
        "colab": {
          "base_uri": "https://localhost:8080/",
          "height": 1000
        },
        "id": "j4hcT9Kq2vim",
        "outputId": "c455961d-51dc-4559-a5cc-370e27adc9ff"
      },
      "execution_count": null,
      "outputs": [
        {
          "output_type": "display_data",
          "data": {
            "text/plain": [
              "<Figure size 640x480 with 1 Axes>"
            ],
            "image/png": "[encoded data removed]"
          },
          "metadata": {}
        },
        {
          "output_type": "display_data",
          "data": {
            "text/plain": [
              "<Figure size 640x480 with 1 Axes>"
            ],
            "image/png": "[encoded data removed]"
          },
          "metadata": {}
        },
        {
          "output_type": "display_data",
          "data": {
            "text/plain": [
              "<Figure size 640x480 with 1 Axes>"
            ],
            "image/png": "[encoded data removed]"
          },
          "metadata": {}
        }
      ]
    },
    {
      "cell_type": "code",
      "source": [
        "# Create a comparative table of model results\n",
        "results_table = pd.DataFrame({\n",
        "    'Model': ['LSTM', 'GRU', 'ConvLSTM'],\n",
        "    'MAE on Test Set': [lstm_mae, gru_mae, conv_lstm_mae]\n",
        "})\n",
        "\n",
        "print(\"\\nModel Results:\")\n",
        "print(results_table)"
      ],
      "metadata": {
        "colab": {
          "base_uri": "https://localhost:8080/"
        },
        "id": "-N3O7jvD25zp",
        "outputId": "46db26e6-a224-4292-aa2b-76970af8bc61"
      },
      "execution_count": null,
      "outputs": [
        {
          "output_type": "stream",
          "name": "stdout",
          "text": [
            "\n",
            "Model Results:\n",
            "      Model  MAE on Test Set\n",
            "0      LSTM         0.165699\n",
            "1       GRU         0.165395\n",
            "2  ConvLSTM         0.165840\n"
          ]
        }
      ]
    }
  ]
}